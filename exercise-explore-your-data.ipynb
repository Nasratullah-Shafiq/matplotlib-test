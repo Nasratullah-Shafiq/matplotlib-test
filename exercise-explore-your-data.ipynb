{
 "cells": [
  {
   "cell_type": "markdown",
   "id": "0737530f",
   "metadata": {
    "papermill": {
     "duration": 0.003823,
     "end_time": "2024-11-23T15:07:25.611228",
     "exception": false,
     "start_time": "2024-11-23T15:07:25.607405",
     "status": "completed"
    },
    "tags": []
   },
   "source": [
    "**[Machine Learning Course Home Page](https://www.kaggle.com/learn/machine-learning)**\n",
    "\n",
    "---\n"
   ]
  },
  {
   "cell_type": "markdown",
   "id": "95be8dc3",
   "metadata": {
    "papermill": {
     "duration": 0.003217,
     "end_time": "2024-11-23T15:07:25.618175",
     "exception": false,
     "start_time": "2024-11-23T15:07:25.614958",
     "status": "completed"
    },
    "tags": []
   },
   "source": [
    "This exercise will test your ability to read a data file and understand statistics about the data.\n",
    "\n",
    "In later exercises, you will apply techniques to filter the data, build a machine learning model, and iteratively improve your model.\n",
    "\n",
    "The course examples use data from Melbourne. To ensure you can apply these techniques on your own, you will have to apply them to a new dataset (with house prices from Iowa).\n",
    "\n",
    "The exercises use a \"notebook\" coding environment.  In case you are unfamiliar with notebooks, we have a [90-second intro video](https://www.youtube.com/watch?v=4C2qMnaIKL4).\n",
    "\n",
    "# Exercises\n",
    "\n",
    "Run the following cell to set up code-checking, which will verify your work as you go."
   ]
  },
  {
   "cell_type": "code",
   "execution_count": 1,
   "id": "cb521751",
   "metadata": {
    "execution": {
     "iopub.execute_input": "2024-11-23T15:07:25.626489Z",
     "iopub.status.busy": "2024-11-23T15:07:25.626116Z",
     "iopub.status.idle": "2024-11-23T15:07:26.757857Z",
     "shell.execute_reply": "2024-11-23T15:07:26.756625Z"
    },
    "papermill": {
     "duration": 1.138833,
     "end_time": "2024-11-23T15:07:26.760312",
     "exception": false,
     "start_time": "2024-11-23T15:07:25.621479",
     "status": "completed"
    },
    "tags": []
   },
   "outputs": [
    {
     "name": "stdout",
     "output_type": "stream",
     "text": [
      "Setup Complete\n"
     ]
    }
   ],
   "source": [
    "# Set up code checking\n",
    "from learntools.core import binder\n",
    "binder.bind(globals())\n",
    "from learntools.machine_learning.ex2 import *\n",
    "print(\"Setup Complete\")"
   ]
  },
  {
   "cell_type": "markdown",
   "id": "4164ce25",
   "metadata": {
    "papermill": {
     "duration": 0.002848,
     "end_time": "2024-11-23T15:07:26.766584",
     "exception": false,
     "start_time": "2024-11-23T15:07:26.763736",
     "status": "completed"
    },
    "tags": []
   },
   "source": [
    "## Step 1: Loading Data\n",
    "Read the Iowa data file into a Pandas DataFrame called `home_data`."
   ]
  },
  {
   "cell_type": "code",
   "execution_count": 2,
   "id": "aa89096c",
   "metadata": {
    "execution": {
     "iopub.execute_input": "2024-11-23T15:07:26.774487Z",
     "iopub.status.busy": "2024-11-23T15:07:26.773948Z",
     "iopub.status.idle": "2024-11-23T15:07:26.784161Z",
     "shell.execute_reply": "2024-11-23T15:07:26.783111Z"
    },
    "papermill": {
     "duration": 0.016681,
     "end_time": "2024-11-23T15:07:26.786311",
     "exception": false,
     "start_time": "2024-11-23T15:07:26.769630",
     "status": "completed"
    },
    "tags": []
   },
   "outputs": [
    {
     "data": {
      "application/javascript": [
       "parent.postMessage({\"jupyterEvent\": \"custom.exercise_interaction\", \"data\": {\"outcomeType\": 4, \"interactionType\": 1, \"questionType\": 1, \"questionId\": \"1_LoadHomeData\", \"learnToolsVersion\": \"0.3.4\", \"valueTowardsCompletion\": 0.0, \"failureMessage\": \"\", \"exceptionClass\": \"\", \"trace\": \"\"}}, \"*\")"
      ],
      "text/plain": [
       "<IPython.core.display.Javascript object>"
      ]
     },
     "metadata": {},
     "output_type": "display_data"
    },
    {
     "data": {
      "text/markdown": [
       "<span style=\"color:#ccaa33\">Check:</span> When you've updated the starter code, `check()` will tell you whether your code is correct. You need to update the code that creates variable `home_data`"
      ],
      "text/plain": [
       "Check: When you've updated the starter code, `check()` will tell you whether your code is correct. You need to update the code that creates variable `home_data`"
      ]
     },
     "metadata": {},
     "output_type": "display_data"
    }
   ],
   "source": [
    "import pandas as pd\n",
    "\n",
    "# Path of the file to read\n",
    "iowa_file_path = '../input/home-data-for-ml-course/train.csv'\n",
    "\n",
    "# Fill in the line below to read the file into a variable home_data\n",
    "home_data = ____\n",
    "\n",
    "# Call line below with no argument to check that you've loaded the data correctly\n",
    "step_1.check()"
   ]
  },
  {
   "cell_type": "code",
   "execution_count": 3,
   "id": "11fc6134",
   "metadata": {
    "execution": {
     "iopub.execute_input": "2024-11-23T15:07:26.794897Z",
     "iopub.status.busy": "2024-11-23T15:07:26.794506Z",
     "iopub.status.idle": "2024-11-23T15:07:26.799039Z",
     "shell.execute_reply": "2024-11-23T15:07:26.798025Z"
    },
    "papermill": {
     "duration": 0.011515,
     "end_time": "2024-11-23T15:07:26.801233",
     "exception": false,
     "start_time": "2024-11-23T15:07:26.789718",
     "status": "completed"
    },
    "tags": []
   },
   "outputs": [],
   "source": [
    "# Lines below will give you a hint or solution code\n",
    "#step_1.hint()\n",
    "#step_1.solution()"
   ]
  },
  {
   "cell_type": "markdown",
   "id": "ce048118",
   "metadata": {
    "papermill": {
     "duration": 0.003007,
     "end_time": "2024-11-23T15:07:26.807613",
     "exception": false,
     "start_time": "2024-11-23T15:07:26.804606",
     "status": "completed"
    },
    "tags": []
   },
   "source": [
    "## Step 2: Review The Data\n",
    "Use the command you learned to view summary statistics of the data. Then fill in variables to answer the following questions"
   ]
  },
  {
   "cell_type": "code",
   "execution_count": 4,
   "id": "a997f368",
   "metadata": {
    "execution": {
     "iopub.execute_input": "2024-11-23T15:07:26.816048Z",
     "iopub.status.busy": "2024-11-23T15:07:26.815607Z",
     "iopub.status.idle": "2024-11-23T15:07:26.821749Z",
     "shell.execute_reply": "2024-11-23T15:07:26.820705Z"
    },
    "papermill": {
     "duration": 0.013289,
     "end_time": "2024-11-23T15:07:26.824142",
     "exception": false,
     "start_time": "2024-11-23T15:07:26.810853",
     "status": "completed"
    },
    "tags": []
   },
   "outputs": [
    {
     "data": {
      "text/markdown": [],
      "text/plain": [
       "<learntools.core.constants.PlaceholderValue at 0x7938656c0a30>"
      ]
     },
     "execution_count": 4,
     "metadata": {},
     "output_type": "execute_result"
    }
   ],
   "source": [
    "# Print summary statistics in next line\n",
    "____"
   ]
  },
  {
   "cell_type": "code",
   "execution_count": 5,
   "id": "02f43433",
   "metadata": {
    "execution": {
     "iopub.execute_input": "2024-11-23T15:07:26.832580Z",
     "iopub.status.busy": "2024-11-23T15:07:26.832233Z",
     "iopub.status.idle": "2024-11-23T15:07:26.841371Z",
     "shell.execute_reply": "2024-11-23T15:07:26.840353Z"
    },
    "papermill": {
     "duration": 0.015792,
     "end_time": "2024-11-23T15:07:26.843478",
     "exception": false,
     "start_time": "2024-11-23T15:07:26.827686",
     "status": "completed"
    },
    "tags": []
   },
   "outputs": [
    {
     "data": {
      "application/javascript": [
       "parent.postMessage({\"jupyterEvent\": \"custom.exercise_interaction\", \"data\": {\"outcomeType\": 4, \"interactionType\": 1, \"questionType\": 1, \"questionId\": \"2_HomeDescription\", \"learnToolsVersion\": \"0.3.4\", \"valueTowardsCompletion\": 0.0, \"failureMessage\": \"\", \"exceptionClass\": \"\", \"trace\": \"\"}}, \"*\")"
      ],
      "text/plain": [
       "<IPython.core.display.Javascript object>"
      ]
     },
     "metadata": {},
     "output_type": "display_data"
    },
    {
     "data": {
      "text/markdown": [
       "<span style=\"color:#ccaa33\">Check:</span> When you've updated the starter code, `check()` will tell you whether your code is correct. You need to update the code that creates variables `avg_lot_size`, `newest_home_age`"
      ],
      "text/plain": [
       "Check: When you've updated the starter code, `check()` will tell you whether your code is correct. You need to update the code that creates variables `avg_lot_size`, `newest_home_age`"
      ]
     },
     "metadata": {},
     "output_type": "display_data"
    }
   ],
   "source": [
    "# What is the average lot size (rounded to nearest integer)?\n",
    "avg_lot_size = ____\n",
    "\n",
    "# As of today, how old is the newest home (current year - the date in which it was built)\n",
    "newest_home_age = ____\n",
    "\n",
    "# Checks your answers\n",
    "step_2.check()"
   ]
  },
  {
   "cell_type": "code",
   "execution_count": 6,
   "id": "3d598f7d",
   "metadata": {
    "execution": {
     "iopub.execute_input": "2024-11-23T15:07:26.852383Z",
     "iopub.status.busy": "2024-11-23T15:07:26.852021Z",
     "iopub.status.idle": "2024-11-23T15:07:26.856601Z",
     "shell.execute_reply": "2024-11-23T15:07:26.855433Z"
    },
    "papermill": {
     "duration": 0.011511,
     "end_time": "2024-11-23T15:07:26.858639",
     "exception": false,
     "start_time": "2024-11-23T15:07:26.847128",
     "status": "completed"
    },
    "tags": []
   },
   "outputs": [],
   "source": [
    "#step_2.hint()\n",
    "#step_2.solution()"
   ]
  },
  {
   "cell_type": "markdown",
   "id": "6bf3752c",
   "metadata": {
    "papermill": {
     "duration": 0.004298,
     "end_time": "2024-11-23T15:07:26.866862",
     "exception": false,
     "start_time": "2024-11-23T15:07:26.862564",
     "status": "completed"
    },
    "tags": []
   },
   "source": [
    "## Think About Your Data\n",
    "\n",
    "The newest house in your data isn't that new.  A few potential explanations for this:\n",
    "1. They haven't built new houses where this data was collected.\n",
    "1. The data was collected a long time ago. Houses built after the data publication wouldn't show up.\n",
    "\n",
    "If the reason is explanation #1 above, does that affect your trust in the model you build with this data? What about if it is reason #2?\n",
    "\n",
    "How could you dig into the data to see which explanation is more plausible?\n",
    "\n",
    "Check out this **[discussion thread](https://www.kaggle.com/learn-forum/60581)** to see what others think or to add your ideas.\n",
    "\n",
    "# Keep Going\n",
    "\n",
    "You are ready for **[Your First Machine Learning Model](https://www.kaggle.com/dansbecker/your-first-machine-learning-model).**\n"
   ]
  },
  {
   "cell_type": "markdown",
   "id": "2b129b22",
   "metadata": {
    "papermill": {
     "duration": 0.003209,
     "end_time": "2024-11-23T15:07:26.873561",
     "exception": false,
     "start_time": "2024-11-23T15:07:26.870352",
     "status": "completed"
    },
    "tags": []
   },
   "source": [
    "---\n",
    "**[Machine Learning Course Home Page](https://www.kaggle.com/learn/machine-learning)**\n",
    "\n"
   ]
  }
 ],
 "metadata": {
  "kaggle": {
   "accelerator": "none",
   "dataSources": [
    {
     "datasetId": 2709,
     "sourceId": 38454,
     "sourceType": "datasetVersion"
    },
    {
     "datasetId": 108980,
     "sourceId": 260251,
     "sourceType": "datasetVersion"
    }
   ],
   "isGpuEnabled": false,
   "isInternetEnabled": false,
   "language": "python",
   "sourceType": "notebook"
  },
  "kernelspec": {
   "display_name": "Python 3",
   "language": "python",
   "name": "python3"
  },
  "language_info": {
   "codemirror_mode": {
    "name": "ipython",
    "version": 3
   },
   "file_extension": ".py",
   "mimetype": "text/x-python",
   "name": "python",
   "nbconvert_exporter": "python",
   "pygments_lexer": "ipython3",
   "version": "3.10.14"
  },
  "papermill": {
   "default_parameters": {},
   "duration": 4.688444,
   "end_time": "2024-11-23T15:07:27.397429",
   "environment_variables": {},
   "exception": null,
   "input_path": "__notebook__.ipynb",
   "output_path": "__notebook__.ipynb",
   "parameters": {},
   "start_time": "2024-11-23T15:07:22.708985",
   "version": "2.6.0"
  }
 },
 "nbformat": 4,
 "nbformat_minor": 5
}
